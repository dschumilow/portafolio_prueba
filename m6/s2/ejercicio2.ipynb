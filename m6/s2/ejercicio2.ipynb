{
 "cells": [
  {
   "cell_type": "code",
   "execution_count": null,
   "id": "df9159d8",
   "metadata": {},
   "outputs": [],
   "source": [
    "import pandas as pd\n",
    "from sklearn.linear_model import LinearRegression\n",
    "from sklearn.model_selection import train_test_split \n",
    "from sklearn.preprocessing import PolynomialFeatures\n",
    "\n",
    "\n",
    "Data = {'HorasDeEstudio':[2,3,4,5,6,7,8,9,10,11],\n",
    "        'Notas':[50,60,65,70,75,80,85,90,95,98]}\n",
    "df = pd.DataFrame(Data)\n",
    "\n",
    "modelo = LinearRegression()\n",
    "modelo.fit(df[['HorasDeEstudio']],df['Notas'])\n",
    "error_entrenamiento = 1-modelo.score(df[['HorasDeEstudio']],df['Notas'])\n",
    "print(f'Error de entrenamiento: {error_entrenamiento:.2f}') # Diferencia entre las predicciones y los datos reales\n",
    "\n",
    "X_entrenamiento, X_prueba, y_entrenamiento, y_prueba = train_test_split(df[['HorasDeEstudio']],df['Notas'],test_size=0.2)\n",
    "modelo.fit(X_entrenamiento, y_entrenamiento)\n",
    "Error_de_prueba = 1 - modelo.score(X_prueba,y_prueba)\n",
    "print(f'Error de prueba : {Error_de_prueba:.2f}')\n",
    "\n",
    "#Sobreajuste\n",
    "poly = PolynomialFeatures(degree=10)\n",
    "x_poly = poly.fit_transform(X_entrenamiento)\n",
    "modelo.fit(x_poly, y_entrenamiento)\n",
    "print(x_poly)\n",
    "\n",
    "#Ajusteapropiado (Polinomio de grado 2)\n",
    "poly2 = PolynomialFeatures(degree=2)\n",
    "x_poly2 = poly.fit_transform(X_entrenamiento)\n",
    "modelo.fit(x_poly2, y_entrenamiento)"
   ]
  }
 ],
 "metadata": {
  "language_info": {
   "name": "python"
  }
 },
 "nbformat": 4,
 "nbformat_minor": 5
}
